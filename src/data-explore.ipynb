{
 "cells": [
  {
   "cell_type": "code",
   "execution_count": 8,
   "metadata": {},
   "outputs": [],
   "source": [
    "import os\n",
    "import re\n",
    "import numpy as np\n",
    "import pandas as pd\n",
    "from tqdm import tqdm, trange\n",
    "import random\n",
    "from sklearn.metrics import classification_report\n",
    "import matplotlib.pyplot as plt\n",
    "import librosa\n",
    "from scipy.special import softmax"
   ]
  },
  {
   "cell_type": "code",
   "execution_count": 9,
   "metadata": {},
   "outputs": [],
   "source": [
    "# label mappings\n",
    "label_map = {\"Happiness\":\"hap\",  \"Excited\":\"exc\", \"Neutral\":\"neu\", \"Sadness\":\"sad\", \"Anger\":\"ang\", \"Surprise\":\"sur\", \"Fear\":\"fea\", \"Disgust\":\"dis\", \"Frustration\":\"fru\", \"Other\": \"oth\"}"
   ]
  },
  {
   "cell_type": "markdown",
   "metadata": {},
   "source": [
    "Define the emotion classes"
   ]
  },
  {
   "cell_type": "code",
   "execution_count": 10,
   "metadata": {},
   "outputs": [],
   "source": [
    "emotions = ['hap', 'sad', 'ang', 'neu', 'exc', 'fru']\n",
    "combine = False\n",
    "name = 'hard'"
   ]
  },
  {
   "cell_type": "code",
   "execution_count": 11,
   "metadata": {},
   "outputs": [],
   "source": [
    "#emotions = ['ang', 'exc', 'neu', 'sad']\n",
    "#combine = True # combine hap to exc\n",
    "#name = 'easy'"
   ]
  },
  {
   "cell_type": "markdown",
   "metadata": {},
   "source": [
    "pick_prob alters the percentage of noise in the dataset"
   ]
  },
  {
   "cell_type": "code",
   "execution_count": 12,
   "metadata": {},
   "outputs": [],
   "source": [
    "pick_prob = 0.6 # probability of picking noisy label if present. Use this to tweak noise %, 1, 0.8, 0.6, 0.4, set it to 1 for easy mode\n",
    "lb2idx = {lb: idx for idx, lb in enumerate(emotions)}"
   ]
  },
  {
   "cell_type": "markdown",
   "metadata": {},
   "source": [
    "Extract the noisy labels"
   ]
  },
  {
   "cell_type": "code",
   "execution_count": 13,
   "metadata": {},
   "outputs": [],
   "source": [
    "def get_noisy_label(gt, ce1, ce2, ce3):\n",
    "    choices = []\n",
    "\n",
    "    #print(\"ce1\", ce1)\n",
    "    #print(\"ce2\", ce2)\n",
    "    #print(\"ce3\", ce3)\n",
    "\n",
    "    match = re.search(r'\\s[\\w+;\\s?]+\\s', ce1)\n",
    "\n",
    "    if match is not None:\n",
    "        choices.extend(match.group(0).split())\n",
    "    \n",
    "    match = re.search(r'\\s[\\w+;\\s?]+\\s', ce2)\n",
    "    if match is not None:\n",
    "        choices.extend(match.group(0).split())\n",
    "\n",
    "    match = re.search(r'\\s[\\w+;\\s?]+\\s', ce3)\n",
    "    if match is not None:\n",
    "        choices.extend(match.group(0).split())  \n",
    "\n",
    "    \n",
    "    filtered_choices = []\n",
    "    all_choices = []\n",
    "    #print(choices)\n",
    "    for choice in choices:\n",
    "        choice = label_map[re.search('\\w+', choice).group(0)]\n",
    "        if combine and choice == 'hap':\n",
    "            choice = 'exc'\n",
    "        if choice in emotions:\n",
    "            all_choices.append(choice)\n",
    "            if choice != gt:\n",
    "                filtered_choices.append(choice)\n",
    "\n",
    "    soft_gt = np.zeros((len(emotions)))\n",
    "    for choice in all_choices:\n",
    "        soft_gt[lb2idx[choice]] += 1\n",
    "\n",
    "\n",
    "    soft_gt = soft_gt/sum(soft_gt)\n",
    "\n",
    "\n",
    "    if len(filtered_choices) == 0:\n",
    "        return 'none', soft_gt\n",
    "\n",
    "    noisy_label = random.choice(filtered_choices)\n",
    "    return noisy_label, soft_gt\n",
    "\n",
    "\n",
    "def get_comments(ce1, ce2, ce3):\n",
    "    comments = []\n",
    "\n",
    "    match = re.search(r'\\(.+\\)', ce1)\n",
    "    if match is not None:\n",
    "        comments.append(match.group(0))\n",
    "\n",
    "    match = re.search(r'\\(.+\\)', ce2)\n",
    "    if match is not None:\n",
    "        comments.append(match.group(0))\n",
    "\n",
    "    match = re.search(r'\\(.+\\)', ce3)\n",
    "    if match is not None:\n",
    "        comments.append(match.group(0))\n",
    "    \n",
    "    return comments   "
   ]
  },
  {
   "cell_type": "code",
   "execution_count": 14,
   "metadata": {},
   "outputs": [
    {
     "name": "stderr",
     "output_type": "stream",
     "text": [
      "  0%|          | 0/4 [00:00<?, ?it/s]"
     ]
    },
    {
     "name": "stderr",
     "output_type": "stream",
     "text": [
      "100%|██████████| 4/4 [00:02<00:00,  1.60it/s]\n"
     ]
    }
   ],
   "source": [
    "# number of sessions\n",
    "n_sess = 5\n",
    "\n",
    "# to reproduce the same labels\n",
    "SEED = 6\n",
    "random.seed(SEED)\n",
    "\n",
    "PROJ_DIR = os.path.expanduser(\"~\") + \"/IEMOCAP_full_release\"\n",
    "\n",
    "\n",
    "def create_dataset(session_id):\n",
    "    df = pd.DataFrame(columns=['wavfile', 'noisy-label', 'ground-truth', 'soft-gt', 'comments', 'timestamps', 'audio-path'])\n",
    "    # sample id\n",
    "    idx = 0\n",
    "    # paths\n",
    "    SESSION_DIR = os.path.join(PROJ_DIR, \"Session\" + str(session_id))\n",
    "    EVAL_DIR = os.path.join(SESSION_DIR, 'dialog', 'EmoEvaluation')\n",
    "    AUDIO_DIR = os.path.join(SESSION_DIR, \"sentences\", \"wav\")\n",
    "\n",
    "    durations = []\n",
    "\n",
    "    # iterate over files present in each session\n",
    "    for file in os.listdir(EVAL_DIR):\n",
    "        if file.endswith('.txt'):\n",
    "            with open(EVAL_DIR + '/' + file, 'rb') as fread: # iterate through lines in the file\n",
    "                lines = fread.readlines()\n",
    "                k = 1\n",
    "                # iterate over utterances\n",
    "                while k < len(lines):\n",
    "                    if b'[' in lines[k]:\n",
    "                        line = lines[k].decode('utf-8')\n",
    "                        # get audio path\n",
    "                        match = re.search(r'\\bSes\\w+\\b', line)\n",
    "                        if match is None:\n",
    "                            k += 1\n",
    "                            continue\n",
    "\n",
    "                        # ground truth label\n",
    "                        ground_truth =  re.search(r'(hap|neu|fru|exc|oth|dis|xxx|sad|ang|fea|sur)', line).group(0)\n",
    "                        if ground_truth not in emotions: # we consider only the emotions listed\n",
    "                            if combine and ground_truth == 'hap':\n",
    "                                ground_truth = 'exc'\n",
    "                            else:\n",
    "                                k += 1\n",
    "                                continue\n",
    "\n",
    "                        df.loc[idx, 'wavfile'] = match.group(0)\n",
    "                        df.loc[idx, 'audio-path'] = AUDIO_DIR + '/' + \"_\".join(match.group(0).split('_')[:-1]) + '/' + match.group(0) + '.wav'\n",
    "                        df.loc[idx, 'ground-truth'] = ground_truth\n",
    "\n",
    "                        \n",
    "                        # randomly select a noisy label from CE labels\n",
    "                        ce1 = lines[k+1].decode('utf-8') # Naive Annotator 1\n",
    "                        ce2 = lines[k+2].decode('utf-8') # Naive Annotator 2\n",
    "                        ce3 = lines[k+3].decode('utf-8') # Naive Annotator 3\n",
    "\n",
    "                        noisy_label, soft_gt = get_noisy_label(ground_truth, ce1, ce2, ce3)\n",
    "                        if noisy_label == \"none\":\n",
    "                            df.loc[idx, 'noisy-label'] = ground_truth\n",
    "                        else:\n",
    "                            if random.random() <= pick_prob:\n",
    "                                df.loc[idx, 'noisy-label'] = noisy_label\n",
    "                            else:\n",
    "                                df.loc[idx, 'noisy-label'] = ground_truth\n",
    "                        df.loc[idx, 'soft-gt'] = soft_gt\n",
    "\n",
    "                        # get annotator comments\n",
    "                        comments = get_comments(ce1, ce2, ce3)\n",
    "                        df.loc[idx, 'comments'] = \".\".join(comments)\n",
    "\n",
    "                        # get timestamps\n",
    "                        match = re.search(r'\\[[\\d\\-\\.\\s]+\\]', line)\n",
    "                        df.loc[idx, 'timestamps'] = match.group(0)\n",
    "\n",
    "                        idx += 1\n",
    "                    k += 1\n",
    "    return df\n",
    "\n",
    "# create train set\n",
    "train_df = pd.DataFrame(columns=['wavfile', 'noisy-label', 'ground-truth', 'comments', 'timestamps', 'audio-path'])\n",
    "for i in trange(1, 5):\n",
    "    train_df = pd.concat([train_df, create_dataset(i)])\n",
    "\n",
    "\n",
    "# create test set\n",
    "test_df = create_dataset(session_id=5)\n",
    "    "
   ]
  },
  {
   "cell_type": "code",
   "execution_count": 15,
   "metadata": {},
   "outputs": [
    {
     "name": "stdout",
     "output_type": "stream",
     "text": [
      "               wavfile noisy-label ground-truth comments           timestamps  \\\n",
      "0  Ses01M_impro02_F000         fru          neu            [8.0737 - 11.4700]   \n",
      "1  Ses01M_impro02_F003         fru          fru           [35.4000 - 38.6000]   \n",
      "2  Ses01M_impro02_F004         ang          fru           [40.1000 - 42.3725]   \n",
      "3  Ses01M_impro02_F005         fru          fru           [42.4950 - 45.8200]   \n",
      "4  Ses01M_impro02_F006         fru          fru           [53.4950 - 54.9950]   \n",
      "\n",
      "                                          audio-path  \\\n",
      "0  /home/kriti/IEMOCAP_full_release/Session1/sent...   \n",
      "1  /home/kriti/IEMOCAP_full_release/Session1/sent...   \n",
      "2  /home/kriti/IEMOCAP_full_release/Session1/sent...   \n",
      "3  /home/kriti/IEMOCAP_full_release/Session1/sent...   \n",
      "4  /home/kriti/IEMOCAP_full_release/Session1/sent...   \n",
      "\n",
      "                                             soft-gt  \n",
      "0  [0.0, 0.0, 0.0, 0.6666666666666666, 0.0, 0.333...  \n",
      "1                     [0.0, 0.0, 0.0, 0.0, 0.0, 1.0]  \n",
      "2  [0.0, 0.0, 0.3333333333333333, 0.0, 0.0, 0.666...  \n",
      "3  [0.0, 0.0, 0.3333333333333333, 0.0, 0.0, 0.666...  \n",
      "4                     [0.0, 0.0, 0.0, 0.0, 0.0, 1.0]  \n"
     ]
    }
   ],
   "source": [
    "print(train_df[:5])"
   ]
  },
  {
   "cell_type": "code",
   "execution_count": 16,
   "metadata": {},
   "outputs": [
    {
     "name": "stdout",
     "output_type": "stream",
     "text": [
      "               wavfile noisy-label ground-truth  \\\n",
      "0  Ses05M_impro07_F000         neu          exc   \n",
      "1  Ses05M_impro07_F001         hap          exc   \n",
      "2  Ses05M_impro07_F003         hap          exc   \n",
      "3  Ses05M_impro07_F004         exc          hap   \n",
      "4  Ses05M_impro07_F005         exc          hap   \n",
      "\n",
      "                                             soft-gt comments  \\\n",
      "0                   [0.25, 0.0, 0.0, 0.25, 0.5, 0.0]            \n",
      "1  [0.3333333333333333, 0.0, 0.0, 0.0, 0.66666666...            \n",
      "2  [0.3333333333333333, 0.0, 0.0, 0.0, 0.66666666...            \n",
      "3  [0.6666666666666666, 0.0, 0.0, 0.0, 0.33333333...            \n",
      "4  [0.6666666666666666, 0.0, 0.0, 0.0, 0.33333333...            \n",
      "\n",
      "            timestamps                                         audio-path  \n",
      "0    [5.4800 - 6.7000]  /home/kriti/IEMOCAP_full_release/Session5/sent...  \n",
      "1    [8.3300 - 9.6900]  /home/kriti/IEMOCAP_full_release/Session5/sent...  \n",
      "2  [11.3500 - 13.6000]  /home/kriti/IEMOCAP_full_release/Session5/sent...  \n",
      "3  [13.9900 - 15.7900]  /home/kriti/IEMOCAP_full_release/Session5/sent...  \n",
      "4  [16.3800 - 18.9800]  /home/kriti/IEMOCAP_full_release/Session5/sent...  \n"
     ]
    }
   ],
   "source": [
    "print(test_df[:5])"
   ]
  },
  {
   "cell_type": "code",
   "execution_count": 17,
   "metadata": {},
   "outputs": [
    {
     "name": "stdout",
     "output_type": "stream",
     "text": [
      "              precision    recall  f1-score   support\n",
      "\n",
      "         ang       0.61      0.63      0.62       933\n",
      "         exc       0.58      0.60      0.59       742\n",
      "         fru       0.55      0.60      0.57      1468\n",
      "         hap       0.43      0.47      0.45       452\n",
      "         neu       0.63      0.56      0.60      1324\n",
      "         sad       0.77      0.68      0.72       839\n",
      "\n",
      "    accuracy                           0.60      5758\n",
      "   macro avg       0.59      0.59      0.59      5758\n",
      "weighted avg       0.60      0.60      0.60      5758\n",
      "\n",
      "40.19\n"
     ]
    }
   ],
   "source": [
    "#print(\"With xxx labeled samples\")\n",
    "print(classification_report(train_df['ground-truth'], train_df['noisy-label']))\n",
    "\n",
    "report = classification_report(train_df['ground-truth'], train_df['noisy-label'], output_dict=True)\n",
    "noise_percentage = round((1 - report['accuracy'])*100, 2)\n",
    "print(noise_percentage)\n",
    "\n",
    "#print(\"Without xxx labeled samples\")\n",
    "#subset_df = train_df[train_df['ground-truth']!='xxx']\n",
    "#print(classification_report(subset_df['ground-truth'], subset_df['noisy-label']))\n",
    "\n",
    "train_df.to_csv(name + '-' + str(noise_percentage) + '-train.csv', index=False)\n",
    "test_df.to_csv(name + '-' + str(noise_percentage) + '-test.csv', index=False)"
   ]
  },
  {
   "cell_type": "code",
   "execution_count": 18,
   "metadata": {},
   "outputs": [
    {
     "name": "stderr",
     "output_type": "stream",
     "text": [
      "100%|██████████| 5758/5758 [00:03<00:00, 1590.27it/s]\n"
     ]
    }
   ],
   "source": [
    "durations = []\n",
    "means = []\n",
    "sample_rate = 16000\n",
    "for i in trange(len(train_df)):\n",
    "    audio_path = train_df.iloc[i]['audio-path']\n",
    "    (audio, fs) = librosa.core.load(audio_path, sr=sample_rate, mono=True)\n",
    "    durations.append(librosa.get_duration(y=audio, sr=sample_rate))\n",
    "    means.append(np.mean(abs(audio)))"
   ]
  },
  {
   "cell_type": "code",
   "execution_count": 19,
   "metadata": {},
   "outputs": [
    {
     "data": {
      "image/png": "[encoded data removed]",
      "text/plain": [
       "<Figure size 640x480 with 1 Axes>"
      ]
     },
     "metadata": {},
     "output_type": "display_data"
    }
   ],
   "source": [
    "import seaborn as sns\n",
    "import pandas as pd\n",
    "\n",
    "sns.set_style('darkgrid')\n",
    "bin_edges = list(range(0, int(max(durations)) + 5, 5))\n",
    "sns.histplot(x=durations, bins=bin_edges) # density=False would make counts\n",
    "plt.ylabel('Number of samples')\n",
    "plt.xlabel('Duration (seconds)')\n",
    "plt.savefig('/home/kriti/ambivalent/images/durations.png')"
   ]
  },
  {
   "cell_type": "code",
   "execution_count": 20,
   "metadata": {},
   "outputs": [
    {
     "name": "stdout",
     "output_type": "stream",
     "text": [
      "5758\n"
     ]
    },
    {
     "data": {
      "text/plain": [
       "ground-truth\n",
       "ang     933\n",
       "exc     742\n",
       "fru    1468\n",
       "hap     452\n",
       "neu    1324\n",
       "sad     839\n",
       "Name: wavfile, dtype: int64"
      ]
     },
     "execution_count": 20,
     "metadata": {},
     "output_type": "execute_result"
    }
   ],
   "source": [
    "print(len(train_df))\n",
    "train_df.groupby(['ground-truth'])['wavfile'].count()"
   ]
  },
  {
   "cell_type": "code",
   "execution_count": 21,
   "metadata": {},
   "outputs": [
    {
     "name": "stdout",
     "output_type": "stream",
     "text": [
      "1622\n"
     ]
    },
    {
     "data": {
      "text/plain": [
       "ground-truth\n",
       "ang    170\n",
       "exc    299\n",
       "fru    381\n",
       "hap    143\n",
       "neu    384\n",
       "sad    245\n",
       "Name: wavfile, dtype: int64"
      ]
     },
     "execution_count": 21,
     "metadata": {},
     "output_type": "execute_result"
    }
   ],
   "source": [
    "print(len(test_df))\n",
    "test_df.groupby(['ground-truth'])['wavfile'].count()"
   ]
  },
  {
   "cell_type": "code",
   "execution_count": null,
   "metadata": {},
   "outputs": [],
   "source": [
    "full_df = pd.concat([train_df,test_df])\n",
    "full_df"
   ]
  },
  {
   "cell_type": "code",
   "execution_count": null,
   "metadata": {},
   "outputs": [
    {
     "name": "stdout",
     "output_type": "stream",
     "text": [
      "5758\n",
      "1622\n"
     ]
    }
   ],
   "source": [
    "print(len(train_df))\n",
    "print(len(test_df))"
   ]
  },
  {
   "cell_type": "code",
   "execution_count": null,
   "metadata": {},
   "outputs": [
    {
     "name": "stdout",
     "output_type": "stream",
     "text": [
      "              precision    recall  f1-score   support\n",
      "\n",
      "         ang       0.75      0.75      0.75       933\n",
      "         exc       0.71      0.74      0.72       742\n",
      "         fru       0.69      0.74      0.72      1468\n",
      "         hap       0.61      0.64      0.62       452\n",
      "         neu       0.77      0.72      0.74      1324\n",
      "         sad       0.86      0.79      0.82       839\n",
      "\n",
      "    accuracy                           0.74      5758\n",
      "   macro avg       0.73      0.73      0.73      5758\n",
      "weighted avg       0.74      0.74      0.74      5758\n",
      "\n"
     ]
    }
   ],
   "source": [
    "import pandas as pd\n",
    "from sklearn.metrics import classification_report\n",
    "\n",
    "df = pd.read_csv('/home/kriti/ambivalent/src/hard-26.48-train.csv')\n",
    "\n",
    "print(classification_report(df['ground-truth'], df['noisy-label']))"
   ]
  }
 ],
 "metadata": {
  "kernelspec": {
   "display_name": "vm",
   "language": "python",
   "name": "python3"
  },
  "language_info": {
   "codemirror_mode": {
    "name": "ipython",
    "version": 3
   },
   "file_extension": ".py",
   "mimetype": "text/x-python",
   "name": "python",
   "nbconvert_exporter": "python",
   "pygments_lexer": "ipython3",
   "version": "3.9.0"
  },
  "orig_nbformat": 4
 },
 "nbformat": 4,
 "nbformat_minor": 2
}
